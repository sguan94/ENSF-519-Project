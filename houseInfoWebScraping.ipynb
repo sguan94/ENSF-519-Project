{
 "cells": [
  {
   "cell_type": "markdown",
   "metadata": {},
   "source": []
  },
  {
   "cell_type": "code",
   "execution_count": 4,
   "metadata": {},
   "outputs": [],
   "source": [
    "import requests\n",
    "import pandas as pd\n",
    "import numpy as np\n",
    "import json\n",
    "\n",
    "def get_house_property (url, LatitudeMax, LongitudeMax, LatitudeMin, LongitudeMin, fileName):\n",
    "    city_data = {'ZoomLevel': 10,\n",
    "        'LatitudeMax': LatitudeMax,\n",
    "        'LongitudeMax': LongitudeMax,\n",
    "        'LatitudeMin':LatitudeMin,\n",
    "        'LongitudeMin':LongitudeMin,\n",
    "        'Sort': '1-A',\n",
    "        'PropertyTypeGroupID':1,\n",
    "        'PropertySearchTypeId':1,\n",
    "        'TransactionTypeId':2,\n",
    "        'RecordsPerPage':200,\n",
    "        'ApplicationId':1,\n",
    "        'CultureId':1,\n",
    "        'Version':7.0,\n",
    "        'CurrentPage':1}\n",
    "    resultList = []\n",
    "    while True:\n",
    "        print(city_data['CurrentPage'])\n",
    "        response_json = requests.post(url=url, data=city_data).text\n",
    "        response_dict = json.loads(response_json)\n",
    "        houses = response_dict['Results']\n",
    "        if len(houses) == 0:\n",
    "            break\n",
    "        for house in houses:\n",
    "            houseDict = {}\n",
    "            houseDict['Latitude'] = house['Property']['Address']['Latitude']\n",
    "            houseDict['Longitude'] = house['Property']['Address']['Longitude']\n",
    "            houseDict['PropertyType'] = house['Property']['Type']\n",
    "            houseDict['Price'] = house['Property']['Price']\n",
    "            houseDict['Bedrooms'] = house['Building'].get('Bedrooms')\n",
    "            houseDict['BathroomTotal'] = house['Building'].get('BathroomTotal')\n",
    "            houseDict['SizeInterior'] = house['Building'].get('SizeInterior')\n",
    "            houseDict['StoriesTotal'] = house['Building'].get('StoriesTotal')\n",
    "            houseDict['BuildingType'] = house['Building'].get('Type')\n",
    "            houseDict['OwnershipType'] = house['Property']['OwnershipType']\n",
    "            resultList.append(houseDict)\n",
    "        city_data['CurrentPage'] = city_data['CurrentPage'] + 1   \n",
    "    housesDf = pd.DataFrame(resultList)\n",
    "    export_csv = housesDf.to_csv (fileName + '.csv', index = None, header=True)"
   ]
  },
  {
   "cell_type": "code",
   "execution_count": null,
   "metadata": {},
   "outputs": [],
   "source": []
  },
  {
   "cell_type": "code",
   "execution_count": 5,
   "metadata": {},
   "outputs": [
    {
     "name": "stdout",
     "output_type": "stream",
     "text": [
      "1\n",
      "2\n",
      "3\n",
      "4\n",
      "5\n",
      "6\n",
      "7\n",
      "8\n",
      "9\n",
      "10\n",
      "11\n",
      "12\n",
      "13\n",
      "14\n",
      "15\n",
      "16\n",
      "17\n",
      "18\n",
      "19\n",
      "20\n",
      "21\n",
      "22\n",
      "23\n",
      "24\n",
      "25\n",
      "26\n",
      "27\n",
      "28\n",
      "29\n",
      "30\n",
      "31\n",
      "32\n",
      "33\n",
      "34\n",
      "35\n",
      "36\n",
      "37\n",
      "38\n"
     ]
    }
   ],
   "source": [
    "page_url = 'https://api2.realtor.ca/Listing.svc/PropertySearch_Post'\n",
    "\n",
    "# get house property for Calgary\n",
    "get_house_property(page_url, 51.20061, -113.31719, 50.85512, -114.85665, 'Calgary_house_property')\n"
   ]
  }
 ],
 "metadata": {
  "kernelspec": {
   "display_name": "Python 3",
   "language": "python",
   "name": "python3"
  },
  "language_info": {
   "codemirror_mode": {
    "name": "ipython",
    "version": 3
   },
   "file_extension": ".py",
   "mimetype": "text/x-python",
   "name": "python",
   "nbconvert_exporter": "python",
   "pygments_lexer": "ipython3",
   "version": "3.7.3"
  }
 },
 "nbformat": 4,
 "nbformat_minor": 2
}
